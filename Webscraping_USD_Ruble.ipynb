{
 "cells": [
  {
   "cell_type": "code",
   "execution_count": 1,
   "id": "997e337f",
   "metadata": {},
   "outputs": [],
   "source": [
    "import os\n",
    "\n",
    "\n",
    "# Set the desired directory path\n",
    "directory_path = 'C:/Users/Sk\\Desktop/SBER_BANK_PYTHON_TEST'\n",
    "\n",
    "# Change the current working directory\n",
    "os.chdir(directory_path)"
   ]
  },
  {
   "cell_type": "code",
   "execution_count": 3,
   "id": "c701cf92",
   "metadata": {},
   "outputs": [],
   "source": [
    "import requests\n",
    "import pandas as pd\n",
    "from bs4 import BeautifulSoup\n",
    "from datetime import datetime, timedelta\n",
    "\n",
    "\n",
    "def get_exchange_rate(date):\n",
    "    url = f\"https://www.cbr.ru/eng/currency_base/daily/?UniDbQuery.Posted=True&UniDbQuery.To={date.strftime('%d.%m.%Y')}\"\n",
    "    response = requests.get(url)\n",
    "    soup = BeautifulSoup(response.content, 'html.parser')\n",
    "    table = soup.find('table', class_='data')\n",
    "    rows = table.find_all('tr')\n",
    "    exchange_rate = None\n",
    "    for row in rows:\n",
    "        columns = row.find_all('td')\n",
    "        if len(columns) >= 2 and columns[1].text.strip() == 'USD':\n",
    "            exchange_rate = columns[4].text.strip()\n",
    "            break\n",
    "    return exchange_rate\n",
    "\n",
    "# Define the start and end dates for the month of November 2022\n",
    "start_date = datetime(2022, 11, 1)\n",
    "end_date = datetime(2022, 11, 30)\n",
    "\n",
    "# Generate a list of dates within the date range\n",
    "dates = [start_date + timedelta(days=i) for i in range((end_date - start_date).days + 1)]\n",
    "\n",
    "# Retrieve the exchange rates for the specified dates\n",
    "exchange_rates = {}\n",
    "for date in dates:\n",
    "    rate = get_exchange_rate(date)\n",
    "    if rate is not None:\n",
    "        exchange_rates[date.strftime('%Y-%m-%d')] = float(rate.replace(',', '.'))\n",
    "\n",
    "# Create a DataFrame with the dates and exchange rates\n",
    "USD_to_RUB_df = pd.DataFrame(list(exchange_rates.items()), columns=['Date', 'USD_to_RUB'])\n",
    "USD_to_RUB_df['SB Date'] = pd.to_datetime(USD_to_RUB_df['Date'], format='%Y-%m-%d')\n",
    "\n",
    "\n",
    "#print(USD_to_RUB_df)\n"
   ]
  }
 ],
 "metadata": {
  "kernelspec": {
   "display_name": "Python 3 (ipykernel)",
   "language": "python",
   "name": "python3"
  },
  "language_info": {
   "codemirror_mode": {
    "name": "ipython",
    "version": 3
   },
   "file_extension": ".py",
   "mimetype": "text/x-python",
   "name": "python",
   "nbconvert_exporter": "python",
   "pygments_lexer": "ipython3",
   "version": "3.10.9"
  }
 },
 "nbformat": 4,
 "nbformat_minor": 5
}
