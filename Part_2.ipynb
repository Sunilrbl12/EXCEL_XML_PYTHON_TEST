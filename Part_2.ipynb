{
 "cells": [
  {
   "cell_type": "code",
   "execution_count": 1,
   "id": "8982278e",
   "metadata": {},
   "outputs": [],
   "source": [
    "import os\n",
    "\n",
    "\n",
    "# Set the desired directory path\n",
    "directory_path = 'C:/Users/Sk\\Desktop/SBER_BANK_PYTHON_TEST'\n",
    "\n",
    "# Change the current working directory\n",
    "os.chdir(directory_path)"
   ]
  },
  {
   "cell_type": "code",
   "execution_count": 21,
   "id": "1f70be04",
   "metadata": {},
   "outputs": [
    {
     "ename": "IndentationError",
     "evalue": "unexpected indent (31022120.py, line 27)",
     "output_type": "error",
     "traceback": [
      "\u001b[1;36m  Cell \u001b[1;32mIn[21], line 27\u001b[1;36m\u001b[0m\n\u001b[1;33m    df['Issuance Date'] = pd.to_datetime(df['Issuance Date'])\u001b[0m\n\u001b[1;37m    ^\u001b[0m\n\u001b[1;31mIndentationError\u001b[0m\u001b[1;31m:\u001b[0m unexpected indent\n"
     ]
    }
   ],
   "source": [
    "import pandas as pd\n",
    "import xml.etree.ElementTree as ET\n",
    "import re\n",
    "from USD_RUBLE_WEBSCRAPING import *\n",
    "from datetime import datetime\n",
    "\n",
    "\n",
    "def sanitize_column_name(column_name):\n",
    "    # Replace spaces with underscores\n",
    "    sanitized_name = re.sub(r'\\s', \"\", column_name)\n",
    "    return sanitized_name\n",
    "\n",
    "def excel_to_xml(excel_file, sheet_name, xml_file):\n",
    "    # Read Excel file using pandas\n",
    "    df = pd.read_excel('test_input.xlsx',skiprows=4)\n",
    "    #print(df)\n",
    "    df = pd.merge(df, USD_to_RUB_df, on='SB Date', how='inner')\n",
    "    \n",
    "\n",
    "#Calculation for SVALUEUSD \n",
    "    df['SVALUEUSD'] = round(df['SB Amount'] / df['USD_to_RUB'],2)\n",
    "    column_to_skip = ['USD_to_RUB','Date']\n",
    "    df = df.drop(column_to_skip, axis=1)\n",
    "    df['SB Date'] = pd.to_datetime(df['SB Date'])\n",
    "    df['SB Date'] = df['SB Date'].dt.date\n",
    "    \n",
    "    df['Issuance Date'] = pd.to_datetime(df['Issuance Date'])\n",
    "    df['Issuance Date'] = df['Issuance Date'].dt.date\n",
    "    \n",
    "    print(df)\n",
    "    # Create XML root element\n",
    "    root = ET.Element(\"CERTDATA\")\n",
    "\n",
    "    # Iterate through each row in the DataFrame\n",
    "    for _, row in df.iterrows():\n",
    "        # Create XML sub-element for each row\n",
    "        data_elem = ET.SubElement(root, \"ECERT\")\n",
    "\n",
    "        # Iterate through each column in the row\n",
    "        for col_name in df.columns:\n",
    "            # Sanitize column name\n",
    "            sanitized_name = sanitize_column_name(col_name)\n",
    "\n",
    "            # Get the cell value from the row and column\n",
    "            cell_value = row[col_name]\n",
    "\n",
    "            # Check if the cell value is null or NaN\n",
    "            if pd.isnull(cell_value):\n",
    "                cell_value = \"\"\n",
    "\n",
    "            # Create XML sub-element for each column\n",
    "            col_elem = ET.SubElement(data_elem, sanitized_name)\n",
    "            col_elem.text = str(cell_value)\n",
    "\n",
    "    # Create ElementTree object\n",
    "    tree = ET.ElementTree(root)\n",
    "\n",
    "    # Write XML to file\n",
    "    tree.write(xml_file)\n",
    "\n",
    "# Usage example\n",
    "excel_to_xml(\"data.xlsx\", \"Sheet1\", \"Output_XML_2_Sunil.xml\")\n"
   ]
  }
 ],
 "metadata": {
  "kernelspec": {
   "display_name": "Python 3 (ipykernel)",
   "language": "python",
   "name": "python3"
  },
  "language_info": {
   "codemirror_mode": {
    "name": "ipython",
    "version": 3
   },
   "file_extension": ".py",
   "mimetype": "text/x-python",
   "name": "python",
   "nbconvert_exporter": "python",
   "pygments_lexer": "ipython3",
   "version": "3.10.9"
  }
 },
 "nbformat": 4,
 "nbformat_minor": 5
}
